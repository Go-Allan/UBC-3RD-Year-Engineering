{
 "cells": [
  {
   "cell_type": "code",
   "execution_count": 2,
   "metadata": {
    "scrolled": false
   },
   "outputs": [
    {
     "data": {
      "image/png": "[encoded data removed]",
      "text/plain": [
       "<Figure size 756x324 with 1 Axes>"
      ]
     },
     "metadata": {
      "needs_background": "light"
     },
     "output_type": "display_data"
    },
    {
     "data": {
      "image/png": "[encoded data removed]",
      "text/plain": [
       "<Figure size 432x288 with 1 Axes>"
      ]
     },
     "metadata": {
      "needs_background": "light"
     },
     "output_type": "display_data"
    },
    {
     "data": {
      "text/plain": [
       "<Figure size 432x288 with 0 Axes>"
      ]
     },
     "metadata": {},
     "output_type": "display_data"
    }
   ],
   "source": [
    "import numpy as np\n",
    "import matplotlib.pyplot as plt\n",
    "\n",
    "# Input parameters\n",
    "PTank = 101.325 \n",
    "soluteMW = 58.443 #[NaCl]\n",
    "waterMW = 18.015  #molec weight of water\n",
    "m = np.linspace(0,0.3,10) #mass fraction of solute to plot\n",
    "\n",
    "# Plotting parameters\n",
    "FS1 = 18 #axes label font size\n",
    "FS2 = 14 #legend font size\n",
    "scale = 1.5\n",
    "\n",
    "# Data for boiling water (pressure and temp)\n",
    "PbH2O = [90,100,101.325,105,110,115,120,125,130,135,140,145,150,155,160,165,170,175,180,185,190,195,200]\n",
    "TbH2O = [96.71,99.63,100,101,102.32,103.59,104.81,105.99,107.13,108.24,109.32,110.36,111.37,112.36, 113.32,114.26,115.17,\n",
    "        116.06,116.93,117.79,118.62,119.43,120.23]\n",
    "TbNaCl = 100 + np.array([0.0479, 0.0751,0.0946,0.01318,0.18784,.2808,.3746,.4699,.5656,.6629,.7613,.9614])\n",
    "\n",
    "# need to convert mM to mass fraction\n",
    "mNaCl = np.array([50,79,100,140,200,300,400,500,600,700,800,1000])*soluteMW/1e6\n",
    "\n",
    "# create figure sized for subplots\n",
    "plt.figure(figsize = (7*scale,3*scale))\n",
    "\n",
    "# verify interpolation is working\n",
    "P = np.linspace(np.min(PbH2O), np.max(PbH2O), len(PbH2O)*2)\n",
    "T = np.interp(P,PbH2O, TbH2O)\n",
    "plt.subplot(121)\n",
    "plt.plot(PbH2O, TbH2O,'bs') #data\n",
    "plt.plot(P,T,'r.')\n",
    "#label plot code goes here (axes and legend)\n",
    "plt.show()\n",
    "\n",
    "# calc. boiling point of solutions\n",
    "x = m/soluteMW/(m/soluteMW+(1-m)/waterMW)\n",
    "Psat = PTank/(1-x)\n",
    "Tboil = np.interp(Psat,PbH2O,TbH2O)\n",
    "plt.subplot(122)\n",
    "plt.plot(m,Tboil,'kp')\n",
    "plt.plot(mNaCl, TbNaCl,'bs')\n",
    "#label axes and stuff here\n",
    "plt.show()\n",
    "plt.tight_layout()"
   ]
  },
  {
   "cell_type": "code",
   "execution_count": null,
   "metadata": {},
   "outputs": [],
   "source": []
  },
  {
   "cell_type": "code",
   "execution_count": null,
   "metadata": {},
   "outputs": [],
   "source": []
  }
 ],
 "metadata": {
  "kernelspec": {
   "display_name": "Python 3",
   "language": "python",
   "name": "python3"
  },
  "language_info": {
   "codemirror_mode": {
    "name": "ipython",
    "version": 3
   },
   "file_extension": ".py",
   "mimetype": "text/x-python",
   "name": "python",
   "nbconvert_exporter": "python",
   "pygments_lexer": "ipython3",
   "version": "3.7.3"
  }
 },
 "nbformat": 4,
 "nbformat_minor": 2
}
