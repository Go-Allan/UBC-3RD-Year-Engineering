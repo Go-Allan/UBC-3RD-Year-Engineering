{
 "cells": [
  {
   "cell_type": "code",
   "execution_count": 1,
   "metadata": {},
   "outputs": [],
   "source": [
    "# PROBLEM 0"
   ]
  },
  {
   "cell_type": "code",
   "execution_count": 23,
   "metadata": {},
   "outputs": [
    {
     "data": {
      "image/png": "[encoded data removed]",
      "text/plain": [
       "<Figure size 432x288 with 1 Axes>"
      ]
     },
     "metadata": {
      "needs_background": "light"
     },
     "output_type": "display_data"
    }
   ],
   "source": [
    "import csv\n",
    "from matplotlib import pyplot as plt\n",
    "import numpy as np\n",
    "\n",
    "csvData = [40,60,60,60,80,80,80,80,100,100]\n",
    "i = 0\n",
    "Data = []\n",
    "\n",
    "with open('grade_data.csv','w',newline='') as csvfile:\n",
    "    filewriter = csv.writer(csvfile, delimiter = ',')\n",
    "    filewriter.writerow(['Grade'])\n",
    "    \n",
    "    while i < (len(csvData)):\n",
    "        filewriter.writerow([csvData[i]])\n",
    "        i += 1\n",
    "    csvfile.close()\n",
    "\n",
    "with open('grade_data.csv','r') as csvfile:\n",
    "    csvfile.readline()\n",
    "    for row in csvfile:\n",
    "        Data.append(int(row))\n",
    "    \n",
    "#print(Data)\n",
    "\n",
    "csvfile.close()\n",
    "\n",
    "plt.hist(Data, bins = 4, color = 'grey', lw = 1, ec = 'black')\n",
    "\n",
    "plt.xlabel('Grade (Percent)', fontsize = 18)\n",
    "plt.ylabel('Frequency', fontsize = 18)\n",
    "plt.yticks(np.arange(0,5,1))\n",
    "plt.show()"
   ]
  },
  {
   "cell_type": "code",
   "execution_count": 2,
   "metadata": {},
   "outputs": [],
   "source": [
    "# PROBLEM 1"
   ]
  },
  {
   "cell_type": "code",
   "execution_count": 6,
   "metadata": {
    "scrolled": false
   },
   "outputs": [
    {
     "name": "stdout",
     "output_type": "stream",
     "text": [
      "Height for P abs = 1.15 is: 4.247926191202446\n"
     ]
    },
    {
     "data": {
      "image/png": "[encoded data removed]",
      "text/plain": [
       "<Figure size 432x288 with 1 Axes>"
      ]
     },
     "metadata": {
      "needs_background": "light"
     },
     "output_type": "display_data"
    }
   ],
   "source": [
    "# Constants\n",
    "m = 8570 #[kg/h]\n",
    "T = 115 #[degrees C]\n",
    "rho = 785 #[kg/m^3]\n",
    "D = 0.0508 #[m]\n",
    "NPSH = 3.15 #[m]\n",
    "Pvap = 114600 #[pa]\n",
    "g = 9.81\n",
    "Ef = 9500 #[Pa]\n",
    "\n",
    "x_vals = np.arange(0.5,1.5,0.05)\n",
    "h = []\n",
    "\n",
    "u = m/(rho*(3.1415*D**2/4))/3600\n",
    "\n",
    "# Solving\n",
    "for P_abs in x_vals: # dont forget to convert absolute pressure to gage pressure\n",
    "    h.append((Pvap-101325)/(rho*g) + NPSH - (P_abs*101325-101325)/(rho*g) + u**2/(2*g) + Ef/(rho*g))\n",
    "\n",
    "#print(h)\n",
    "print('Height for P abs = 1.15 is:', h[13])\n",
    "\n",
    "plt.plot(x_vals,h, 'r-')\n",
    "plt.xlabel('Absolute Pressure [atm]', fontsize = 14)\n",
    "plt.ylabel('Minimum Liquid Level [m]', fontsize = 14)\n",
    "plt.title('Reboiler Pressure vs Required Tank Liquid Level',fontsize = 18)\n",
    "plt.show()"
   ]
  },
  {
   "cell_type": "code",
   "execution_count": 5,
   "metadata": {},
   "outputs": [],
   "source": [
    "# Problem 4 Original Attempt (Not Updated Answers only for reference)"
   ]
  },
  {
   "cell_type": "code",
   "execution_count": 6,
   "metadata": {
    "scrolled": true
   },
   "outputs": [
    {
     "data": {
      "text/plain": [
       "\"import csv\\nfrom matplotlib import pyplot as plt\\nimport numpy as np\\nfrom scipy.stats import skew\\nfrom scipy.stats import kurtosis\\n\\nvolume = []\\nmass = []\\nFeretD_L = []\\nFeretD_S = []\\n\\n#pdensity = []\\nn = 0\\n\\nwith open('HW2-4 Data.csv','r',encoding = 'utf-8-sig') as file: #make sure to have file for reading in same folder as this code (else have to call file location)\\n    file.readline() #skip first line\\n    data = csv.reader(file, delimiter = ',')\\n    for row in data:\\n        try:\\n            volume.append(float(row[0]))\\n            mass.append(float(row[1]))\\n            FeretD_S.append(float(row[2]))\\n            FeretD_L.append(float(row[3]))\\n        except:\\n            print('error')\\n            \\n# part a) i) \\npdensity = np.divide(mass,volume) # divides element wise mass/volume\\n\\npdensity_mean = np.mean(pdensity)\\nprint('mean:',pdensity_mean)\\npdensity_std = np.std(pdensity)\\nprint('standard deviation:',pdensity_std)\\npdensity_skew = skew(pdensity)\\nprint('skewness:',pdensity_skew)\\npdensity_kurtosis = kurtosis(pdensity)\\nprint('kurtosis:',pdensity_kurtosis)\\n#pdensity_std_check = (pdensity_mean**3)/(pdensity_std**3)\\n#print(pdensity_std_check)\\n#pdensity_kurtosis_check = (pdensity_mean**4)/(pdensity_std**4)\\n#print(pdensity_kurtosis_check)\\n\\nplt.hist(pdensity, bins = 100, color = 'hotpink', lw = 2, ec = 'gold')\\nplt.xlabel('Particle Density', fontsize = 14)\\nplt.ylabel('Frequency [log]', fontsize = 14)\\nplt.yscale('log')\\nplt.title('Particle Density Histogram',fontsize = 18)\\nplt.show()\\n\\n#plt.hist(pdensity, bins = 100, color = 'hotpink', lw = 2, ec = 'gold')\\n#plt.show()\\n\\n# part a) ii) ----------------------------------------------------------\\nequiv_diam = np.cbrt(np.divide(np.multiply(6,volume),np.pi))\\n\\nequiv_diam_mean = np.mean(equiv_diam)\\nprint('mean:',equiv_diam_mean)\\nequiv_diam_std = np.std(equiv_diam)\\nprint('standard deviation:',equiv_diam_std)\\nequiv_diam_skew = skew(equiv_diam)\\nprint('skewness:',equiv_diam_skew)\\nequiv_diam_kurtosis = kurtosis(equiv_diam)\\nprint('kurtosis:',equiv_diam_kurtosis)\\n\\nplt.hist(equiv_diam, bins = 100, color = 'hotpink', lw = 2, ec = 'gold')\\nplt.xlabel('Equivalent Spherical Particle Diameter by Volume', fontsize = 14)\\nplt.ylabel('Frequency', fontsize = 14)\\n#plt.yscale('log')\\nplt.title('Equivalent Diameter Histogram',fontsize = 18)\\nplt.show()\\n\\n#plt.hist(equiv_diam, bins = 100, color = 'hotpink', lw = 2, ec = 'gold')\\n#plt.show()\\n\\n# part a) iii) ---------------------------------------------------------\\naspect_ratio = np.divide(FeretD_L,FeretD_S)\\n\\naspect_ratio_mean = np.mean(aspect_ratio)\\nprint('mean:',aspect_ratio_mean)\\naspect_ratio_std = np.std(aspect_ratio)\\nprint('standard deviation:',aspect_ratio_std)\\naspect_ratio_skew = skew(aspect_ratio)\\nprint('skewness:',aspect_ratio_skew)\\naspect_ratio_kurtosis = kurtosis(aspect_ratio)\\nprint('kurtosis:',aspect_ratio_kurtosis)\\n\\nplt.hist(aspect_ratio, bins = 100, color = 'hotpink', lw = 2, ec = 'gold')\\nplt.xlabel('Particle Aspect Ratio', fontsize = 14)\\nplt.ylabel('Frequency [log]', fontsize = 14)\\nplt.yscale('log')\\nplt.title('Particle Aspect Ratio Histogram',fontsize = 18)\\nplt.show()\\n\\n#plt.hist(aspect_ratio, bins = 100, color = 'hotpink', lw = 2, ec = 'gold')\\n#plt.show()\""
      ]
     },
     "execution_count": 6,
     "metadata": {},
     "output_type": "execute_result"
    }
   ],
   "source": [
    "\"\"\"import csv\n",
    "from matplotlib import pyplot as plt\n",
    "import numpy as np\n",
    "from scipy.stats import skew\n",
    "from scipy.stats import kurtosis\n",
    "\n",
    "volume = []\n",
    "mass = []\n",
    "FeretD_L = []\n",
    "FeretD_S = []\n",
    "\n",
    "#pdensity = []\n",
    "n = 0\n",
    "\n",
    "with open('HW2-4 Data.csv','r',encoding = 'utf-8-sig') as file: #make sure to have file for reading in same folder as this code (else have to call file location)\n",
    "    file.readline() #skip first line\n",
    "    data = csv.reader(file, delimiter = ',')\n",
    "    for row in data:\n",
    "        try:\n",
    "            volume.append(float(row[0]))\n",
    "            mass.append(float(row[1]))\n",
    "            FeretD_S.append(float(row[2]))\n",
    "            FeretD_L.append(float(row[3]))\n",
    "        except:\n",
    "            print('error')\n",
    "            \n",
    "# part a) i) \n",
    "pdensity = np.divide(mass,volume) # divides element wise mass/volume\n",
    "\n",
    "pdensity_mean = np.mean(pdensity)\n",
    "print('mean:',pdensity_mean)\n",
    "pdensity_std = np.std(pdensity)\n",
    "print('standard deviation:',pdensity_std)\n",
    "pdensity_skew = skew(pdensity)\n",
    "print('skewness:',pdensity_skew)\n",
    "pdensity_kurtosis = kurtosis(pdensity)\n",
    "print('kurtosis:',pdensity_kurtosis)\n",
    "#pdensity_std_check = (pdensity_mean**3)/(pdensity_std**3)\n",
    "#print(pdensity_std_check)\n",
    "#pdensity_kurtosis_check = (pdensity_mean**4)/(pdensity_std**4)\n",
    "#print(pdensity_kurtosis_check)\n",
    "\n",
    "plt.hist(pdensity, bins = 100, color = 'hotpink', lw = 2, ec = 'gold')\n",
    "plt.xlabel('Particle Density', fontsize = 14)\n",
    "plt.ylabel('Frequency [log]', fontsize = 14)\n",
    "plt.yscale('log')\n",
    "plt.title('Particle Density Histogram',fontsize = 18)\n",
    "plt.show()\n",
    "\n",
    "#plt.hist(pdensity, bins = 100, color = 'hotpink', lw = 2, ec = 'gold')\n",
    "#plt.show()\n",
    "\n",
    "# part a) ii) ----------------------------------------------------------\n",
    "equiv_diam = np.cbrt(np.divide(np.multiply(6,volume),np.pi))\n",
    "\n",
    "equiv_diam_mean = np.mean(equiv_diam)\n",
    "print('mean:',equiv_diam_mean)\n",
    "equiv_diam_std = np.std(equiv_diam)\n",
    "print('standard deviation:',equiv_diam_std)\n",
    "equiv_diam_skew = skew(equiv_diam)\n",
    "print('skewness:',equiv_diam_skew)\n",
    "equiv_diam_kurtosis = kurtosis(equiv_diam)\n",
    "print('kurtosis:',equiv_diam_kurtosis)\n",
    "\n",
    "plt.hist(equiv_diam, bins = 100, color = 'hotpink', lw = 2, ec = 'gold')\n",
    "plt.xlabel('Equivalent Spherical Particle Diameter by Volume', fontsize = 14)\n",
    "plt.ylabel('Frequency', fontsize = 14)\n",
    "#plt.yscale('log')\n",
    "plt.title('Equivalent Diameter Histogram',fontsize = 18)\n",
    "plt.show()\n",
    "\n",
    "#plt.hist(equiv_diam, bins = 100, color = 'hotpink', lw = 2, ec = 'gold')\n",
    "#plt.show()\n",
    "\n",
    "# part a) iii) ---------------------------------------------------------\n",
    "aspect_ratio = np.divide(FeretD_L,FeretD_S)\n",
    "\n",
    "aspect_ratio_mean = np.mean(aspect_ratio)\n",
    "print('mean:',aspect_ratio_mean)\n",
    "aspect_ratio_std = np.std(aspect_ratio)\n",
    "print('standard deviation:',aspect_ratio_std)\n",
    "aspect_ratio_skew = skew(aspect_ratio)\n",
    "print('skewness:',aspect_ratio_skew)\n",
    "aspect_ratio_kurtosis = kurtosis(aspect_ratio)\n",
    "print('kurtosis:',aspect_ratio_kurtosis)\n",
    "\n",
    "plt.hist(aspect_ratio, bins = 100, color = 'hotpink', lw = 2, ec = 'gold')\n",
    "plt.xlabel('Particle Aspect Ratio', fontsize = 14)\n",
    "plt.ylabel('Frequency [log]', fontsize = 14)\n",
    "plt.yscale('log')\n",
    "plt.title('Particle Aspect Ratio Histogram',fontsize = 18)\n",
    "plt.show()\n",
    "\n",
    "#plt.hist(aspect_ratio, bins = 100, color = 'hotpink', lw = 2, ec = 'gold')\n",
    "#plt.show()\"\"\""
   ]
  },
  {
   "cell_type": "code",
   "execution_count": 8,
   "metadata": {},
   "outputs": [],
   "source": [
    "# Problem 4 Actual"
   ]
  },
  {
   "cell_type": "code",
   "execution_count": 30,
   "metadata": {},
   "outputs": [
    {
     "name": "stdout",
     "output_type": "stream",
     "text": [
      "The number weighted average: 4.1573 +\\- 13.7983 [mg/mm^3]\n",
      "The skewness, kurtosis: 80705.3025, 2495.0776\n"
     ]
    },
    {
     "data": {
      "image/png": "[encoded data removed]",
      "text/plain": [
       "<Figure size 315x270 with 1 Axes>"
      ]
     },
     "metadata": {
      "needs_background": "light"
     },
     "output_type": "display_data"
    },
    {
     "name": "stdout",
     "output_type": "stream",
     "text": [
      "The number weighted average: 1.6109 +\\- 0.2704 [mg/mm^3]\n",
      "The skewness, kurtosis: 0.0101, 3.4672\n"
     ]
    },
    {
     "data": {
      "image/png": "[encoded data removed]",
      "text/plain": [
       "<Figure size 315x270 with 1 Axes>"
      ]
     },
     "metadata": {
      "needs_background": "light"
     },
     "output_type": "display_data"
    },
    {
     "name": "stdout",
     "output_type": "stream",
     "text": [
      "The number weighted average: 11.8391 +\\- 10.5071 [mg/mm^3]\n",
      "The skewness, kurtosis: 3931.5668, 28.2547\n"
     ]
    },
    {
     "data": {
      "image/png": "[encoded data removed]",
      "text/plain": [
       "<Figure size 315x270 with 1 Axes>"
      ]
     },
     "metadata": {
      "needs_background": "light"
     },
     "output_type": "display_data"
    }
   ],
   "source": [
    "import csv\n",
    "import numpy as np\n",
    "import matplotlib.pyplot as plt\n",
    "\n",
    "# PLOTTING PARAMETERS\n",
    "bins = 100 # number of bins to use in histogram\n",
    "scale = 1.25 # scaling factor for figure size (preserves aspect ratio)\n",
    "FS1 = 14 # Axes labels font size\n",
    "FS2 = 14 # Legend font size\n",
    "\n",
    "volume = []\n",
    "mass = []\n",
    "FeretD_L = []\n",
    "FeretD_S = []\n",
    "test = []\n",
    "test2 = []\n",
    "\n",
    "n = 0\n",
    "\n",
    "with open('HW2-4 Data.csv','r',encoding = 'utf-8-sig') as file: #make sure to have file for reading in same folder as this code (else have to call file location)\n",
    "    file.readline() #skip first line\n",
    "    data = csv.reader(file, delimiter = ',')\n",
    "    for row in data:\n",
    "        try:\n",
    "            volume.append(float(row[0]))\n",
    "            mass.append(float(row[1]))\n",
    "            if row[2] < row[3]:\n",
    "                FeretD_S.append(float(row[2]))\n",
    "                FeretD_L.append(float(row[3]))\n",
    "            else:\n",
    "                FeretD_S.append(float(row[3]))\n",
    "                FeretD_L.append(float(row[2]))\n",
    "        except:\n",
    "            print('error')\n",
    "            \n",
    "def moments(y,w,y0=0,m=1):\n",
    "    numerator = 0\n",
    "    denominator = 0\n",
    "    N = len(y)\n",
    "    for i in range(N):\n",
    "        numerator += w[i]*(y[i]-y0)**m\n",
    "        denominator += w[i]\n",
    "        \n",
    "    moment = numerator/denominator\n",
    "    return moment\n",
    "\n",
    "def Q4a(fun_to_run):\n",
    "    function = fun_to_run\n",
    "    w = np.ones_like(function) # equally weighted\n",
    "    mean = moments(function,w) \n",
    "    variance = moments(function,w,y0=mean,m=2)\n",
    "    std = np.sqrt(variance)\n",
    "    print('The number weighted average: %.4f +\\- %.4f [mg/mm^3]'%(mean,std))\n",
    "\n",
    "    skewness = moments(function,w,y0 = mean,m=3) #divide by std**3 to get fisher skewness\n",
    "    kurtosis = moments(function,w,y0 = mean,m=4)/std**4\n",
    "    excessKurtosis = kurtosis - 3\n",
    "    print('The skewness, kurtosis: %.4f, %.4f'%(skewness,kurtosis,))\n",
    "    \n",
    "# part a) i) \n",
    "pdensity = np.divide(mass,volume) # divides element wise mass/volume\n",
    "# part a) ii) \n",
    "equiv_diam = np.cbrt(np.divide(np.multiply(6,volume),np.pi))\n",
    "# part a) iii) \n",
    "aspect_ratio = np.divide(FeretD_L,FeretD_S)\n",
    "\n",
    "Q4a(pdensity)\n",
    "# Create figure size and view histogram\n",
    "plt.figure(figsize=(3.5*scale,3*scale))\n",
    "plt.hist(pdensity,bins,ec='black')\n",
    "plt.yscale('log')\n",
    "plt.xlabel('Particle Density [mg/mm^3]',fontsize=FS1)\n",
    "plt.ylabel('Frequency [log]',fontsize=FS1)\n",
    "plt.title('Histogram of Particle Density',fontsize=FS1)\n",
    "plt.tight_layout()\n",
    "plt.show()\n",
    "\n",
    "Q4a(equiv_diam)\n",
    "# Create figure size and view histogram\n",
    "plt.figure(figsize=(3.5*scale,3*scale))\n",
    "plt.hist(equiv_diam,bins,ec='black')\n",
    "plt.xscale('log')\n",
    "plt.xlabel('Equivalent Diameter [mm]',fontsize=FS1)\n",
    "plt.ylabel('Frequency',fontsize=FS1)\n",
    "plt.title('Histogram of Equivalent Volume Diameter',fontsize=FS1)\n",
    "plt.tight_layout()\n",
    "plt.show()\n",
    "\n",
    "Q4a(aspect_ratio)\n",
    "# Create figure size and view histogram\n",
    "plt.figure(figsize=(3.5*scale,3*scale))\n",
    "plt.hist(aspect_ratio,bins,ec='black')\n",
    "plt.xscale('log')\n",
    "plt.xlabel('Aspect Ratio [log]',fontsize=FS1)\n",
    "plt.ylabel('Frequency',fontsize=FS1)\n",
    "plt.title('Histogram of Aspect Ratio', fontsize=FS1)\n",
    "plt.tight_layout()\n",
    "plt.show()"
   ]
  },
  {
   "cell_type": "code",
   "execution_count": 11,
   "metadata": {},
   "outputs": [
    {
     "name": "stdout",
     "output_type": "stream",
     "text": [
      "4bi)\n",
      " 0.35 mm\n",
      "4bii)\n",
      "The Debroucker diameter is: 1.7510 +\\- 0.2941 mm\n",
      "4biii)\n",
      "The Sauter mean diameter is: 0.7592 +\\- 0.5694 mm\n"
     ]
    }
   ],
   "source": [
    "# PROBLEM 4b) \n",
    "# i) \n",
    "D50 = np.median(FeretD_S)\n",
    "print('4bi)\\n',D50,'mm')\n",
    "\n",
    "# ii) \n",
    "w_vol = np.pi/6*equiv_diam**3 # volume weighted\n",
    "debrouker = moments(equiv_diam,w_vol)\n",
    "debroukerVar = moments(equiv_diam,w_vol,y0=debrouker,m=2)\n",
    "debroukerStd = np.sqrt(debroukerVar)\n",
    "print('4bii)\\nThe Debroucker diameter is: %.4f +\\- %.4f mm'%(debrouker,debroukerStd))  \n",
    "\n",
    "# iii) \n",
    "w_sauter = np.pi*np.multiply(FeretD_S,FeretD_L)+2*np.pi*np.divide(FeretD_S,2)**2\n",
    "sauter = moments(FeretD_S,w_sauter)\n",
    "sauterVar = moments(FeretD_S,w_sauter,y0=sauter,m=2)\n",
    "sauterStd = np.sqrt(sauterVar) \n",
    "print('4biii)\\nThe Sauter mean diameter is: %.4f +\\- %.4f mm'%(sauter,sauterStd))"
   ]
  },
  {
   "cell_type": "code",
   "execution_count": null,
   "metadata": {},
   "outputs": [],
   "source": []
  },
  {
   "cell_type": "code",
   "execution_count": null,
   "metadata": {},
   "outputs": [],
   "source": []
  }
 ],
 "metadata": {
  "kernelspec": {
   "display_name": "Python 3",
   "language": "python",
   "name": "python3"
  },
  "language_info": {
   "codemirror_mode": {
    "name": "ipython",
    "version": 3
   },
   "file_extension": ".py",
   "mimetype": "text/x-python",
   "name": "python",
   "nbconvert_exporter": "python",
   "pygments_lexer": "ipython3",
   "version": "3.7.3"
  }
 },
 "nbformat": 4,
 "nbformat_minor": 2
}
