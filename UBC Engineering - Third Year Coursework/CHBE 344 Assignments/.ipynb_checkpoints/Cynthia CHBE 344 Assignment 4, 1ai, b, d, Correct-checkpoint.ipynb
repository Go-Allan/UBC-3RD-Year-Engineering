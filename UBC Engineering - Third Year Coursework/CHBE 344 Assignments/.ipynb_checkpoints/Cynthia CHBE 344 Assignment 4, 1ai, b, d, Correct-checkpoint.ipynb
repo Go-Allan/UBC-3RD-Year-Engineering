{
 "cells": [
  {
   "cell_type": "code",
   "execution_count": 1,
   "metadata": {},
   "outputs": [
    {
     "name": "stdout",
     "output_type": "stream",
     "text": [
      "0.0003659725213483148\n",
      "The particle will reach 90.0% of the terminal velocity after 0.00017746 seconds and 4.485e-08 meters\n"
     ]
    }
   ],
   "source": [
    "import numpy as np\n",
    "from scipy.integrate import odeint\n",
    "import matplotlib.pyplot as plt\n",
    "\n",
    "d_p = 132e-6 #[m]\n",
    "rho_p = 2650 #[kg/m^3]\n",
    "rho_f = 935 #[kg/m^3]\n",
    "mu_f = 44.5e-3 #[Pa-s]\n",
    "g = 9.81 \n",
    "y0 = [0,1e-5]\n",
    "tMax = 10\n",
    "nTime = 1000\n",
    "percent = 90\n",
    "\n",
    "vol = np.pi/6.0*d_p**3 #particle volume\n",
    "m = vol*rho_p #particle mass\n",
    "A = np.pi/4.0*d_p**2 #spherical surface area\n",
    "lc = 2*m/rho_f/A\n",
    "tc = np.sqrt(lc/(1-rho_f/rho_p)/g)\n",
    "uc = lc/tc\n",
    "\n",
    "def Cd(Re):\n",
    "    def fun1(Re):\n",
    "        return 24.0/Re\n",
    "    def fun2(Re):\n",
    "        return 24.0/Re*(1+0.14*Re**(0.7))\n",
    "    def fun3(Re):\n",
    "        return 0.445\n",
    "    \n",
    "    C = np.piecewise(Re,[(Re<0.1),(Re>=0.1) & (Re<1e3),(Re>=1e3)],[fun1,fun2,fun3])\n",
    "    \n",
    "    return C\n",
    "\n",
    "def settling(y,t,rho_f,d,mu,uc):\n",
    "    z,v = y\n",
    "    dy_dt = np.zeros_like(y)\n",
    "    Re = rho_f*d*v*uc/mu\n",
    "    C = Cd(Re)\n",
    "    dy_dt[0] = v\n",
    "    dy_dt[1] = 1-C*v**2\n",
    "    return dy_dt\n",
    "\n",
    "t = np.linspace(0,tMax,nTime)\n",
    "y = odeint(settling,y0,t,args=(rho_f,d_p,mu_f,uc))\n",
    "z = y[:,0]\n",
    "v = y[:,1]\n",
    "\n",
    "vt = (v[-1]*uc)\n",
    "print(vt)\n",
    "\n",
    "ind = np.argwhere(v>=(percent/100*v[-1]))\n",
    "tPercent = t[ind[0]]*tc\n",
    "zPercent = z[ind[0]]*lc\n",
    "print('The particle will reach %.1f%% of the terminal velocity after %.5g seconds and %.5g meters'%(percent,tPercent,zPercent))\n",
    "\n",
    "\n",
    "#ii)\n",
    "\n",
    "\n",
    "\n",
    "\n",
    "\n",
    "\n"
   ]
  },
  {
   "cell_type": "code",
   "execution_count": 3,
   "metadata": {},
   "outputs": [
    {
     "data": {
      "text/plain": [
       "(array([1.e-07, 1.e-06, 1.e-05, 1.e-04, 1.e-03, 1.e-02, 1.e-01, 1.e+00]),\n",
       " <a list of 8 Text yticklabel objects>)"
      ]
     },
     "execution_count": 3,
     "metadata": {},
     "output_type": "execute_result"
    },
    {
     "data": {
      "image/png": "[encoded data removed]",
      "text/plain": [
       "<Figure size 432x288 with 1 Axes>"
      ]
     },
     "metadata": {
      "needs_background": "light"
     },
     "output_type": "display_data"
    }
   ],
   "source": [
    "#b)\n",
    "\n",
    "mu = np.linspace(1/1000,10,50) #[Pa-s]\n",
    "N = len(mu)\n",
    "vlist = []\n",
    "\n",
    "for i in range(N):\n",
    "    mu1 = mu[i]\n",
    "    vol = np.pi/6.0*d_p**3 #particle volume\n",
    "    m = vol*rho_p #particle mass\n",
    "    A = np.pi/4.0*d_p**2 #spherical surface area\n",
    "    lc = 2*m/rho_f/A\n",
    "    tc = np.sqrt(lc/(1-rho_f/rho_p)/g)\n",
    "    uc = lc/tc\n",
    "    t = np.linspace(0,tMax,nTime)\n",
    "    y = odeint(settling,y0,t,args=(rho_f,d_p,mu1,uc))\n",
    "    z = y[:,0]\n",
    "    v = y[:,1]\n",
    "    vt = v[-1]*uc\n",
    "    \n",
    "    vlist.append(vt)\n",
    "    \n",
    "    \n",
    "\n",
    "    \n",
    "plt.loglog(mu, vlist)\n",
    "plt.xlabel('Viscosity [Pa-s]',fontsize = 15)\n",
    "plt.ylabel('Velocity [m/s]', fontsize = 15)\n",
    "plt.title ('Particle Viscosity vs. Settling Velocity',fontsize = 15 )\n",
    "plt.xticks (fontsize = 15)\n",
    "plt.yticks (fontsize = 15)\n",
    "    \n"
   ]
  },
  {
   "cell_type": "code",
   "execution_count": null,
   "metadata": {},
   "outputs": [],
   "source": []
  }
 ],
 "metadata": {
  "kernelspec": {
   "display_name": "Python 3",
   "language": "python",
   "name": "python3"
  },
  "language_info": {
   "codemirror_mode": {
    "name": "ipython",
    "version": 3
   },
   "file_extension": ".py",
   "mimetype": "text/x-python",
   "name": "python",
   "nbconvert_exporter": "python",
   "pygments_lexer": "ipython3",
   "version": "3.7.3"
  }
 },
 "nbformat": 4,
 "nbformat_minor": 2
}
