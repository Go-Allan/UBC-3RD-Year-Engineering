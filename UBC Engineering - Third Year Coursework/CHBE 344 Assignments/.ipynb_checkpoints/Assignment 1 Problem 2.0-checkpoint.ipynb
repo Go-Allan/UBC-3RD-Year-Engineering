{
 "cells": [
  {
   "cell_type": "code",
   "execution_count": 80,
   "metadata": {},
   "outputs": [
    {
     "name": "stdout",
     "output_type": "stream",
     "text": [
      "the mass flow rate required is: [5.09013914]\n",
      "the Reynolds number is: [255156.15894866]\n",
      "[7267.13826364]\n"
     ]
    },
    {
     "data": {
      "text/plain": [
       "[<matplotlib.lines.Line2D at 0x1cca2098cf8>]"
      ]
     },
     "execution_count": 80,
     "metadata": {},
     "output_type": "execute_result"
    },
    {
     "data": {
      "image/png": "[encoded data removed]",
      "text/plain": [
       "<Figure size 720x360 with 1 Axes>"
      ]
     },
     "metadata": {
      "needs_background": "light"
     },
     "output_type": "display_data"
    }
   ],
   "source": [
    "import numpy as np\n",
    "import matplotlib.pyplot as plt\n",
    "from scipy.optimize import fsolve\n",
    "from numpy import pi\n",
    "\n",
    "## INPUT PARAMETERS\n",
    "L1 = 150 # Length from resovoir to pump[m]\n",
    "D1 = 0.1016 # Diameter of pipe 1 [m]\n",
    "A1 = pi*(D1/2)**2 #[m^2]\n",
    "L2 = 5.25 #[m]\n",
    "D2 = 0.0254 #[m]\n",
    "A2 = np.pi*D2**2/4 #[m^2]\n",
    "h1 = 10.25 # height from pump to resovoir [m]\n",
    "h2 = 5.75 # height from pump to heat exchanger [m]\n",
    "P_out = 625000 # pressure [Pa]\n",
    "Rr = 0.001 # Relative roughness\n",
    "rho = 998 #[kg/m^3]\n",
    "mu = 1e-3 #[Pa s]\n",
    "g = 9.81 #[m/s^2]\n",
    "\n",
    "# Minor Friction Factor Coefficients\n",
    "C_cont = 0.5\n",
    "C_reg_t = 1.5\n",
    "C_long_t = 0.7\n",
    "C_long_f = 0.2\n",
    "\n",
    "## PART A) ------------------------------------------------------------------------------\n",
    "\n",
    "W_p = 7530*0.635 #[J/s] Work\n",
    "\n",
    "def func(u1):\n",
    "    Re1 = rho*u1*D1/mu\n",
    "    Re2 = rho*(u1*A1/A2)*D2/mu\n",
    "    \n",
    "    f1 = (-3.6*np.log10(6.9/Re1+(Rr/3.7)**1.11))**(-2)\n",
    "    f2 = (-3.6*np.log10(6.9/Re2+(Rr/3.7)**1.11))**(-2)\n",
    "\n",
    "    EF_cont = C_cont*u**2/2\n",
    "    EF_major1 = f1*2*L1*u1**2/D1\n",
    "    EF_major2 = f2*2*L2*(A1*u1/A2)**2/D2\n",
    "    EF_elbows = u1**2/2*8*C_reg_t+(A1*u/A2)**2/2*2*C_long_t+(A1*u/A2)**2/2*C_long_f\n",
    "    \n",
    "    EF= EF_cont + EF_major1 + EF_major2 + EF_elbows\n",
    "    \n",
    "    return W_p + (rho*A1*u1)*(0.5*(-(A1*u1/A2)**2)+g*(h1-h2)-(P_out/rho)-EF)\n",
    "\n",
    "u1 = fsolve(func,1)\n",
    "mass = rho*u1*A1 # could have used either of u1 or u2 in calcs since looking for mass flow only\n",
    "Re = rho*A1*u1/A2*D2/mu\n",
    "\n",
    "print(\"the mass flow rate required is:\",mass)\n",
    "print(\"the Reynolds number is:\",Re)\n",
    "\n",
    "## PART B) -----------------------------------------------------------------------------\n",
    "\n",
    "Pow_conversion = 745.7 # 745.7W/1hp\n",
    "\n",
    "n = np.linspace(0,50,51)\n",
    "Brake_hp = np.linspace(0,0,51)\n",
    "N = len(n)\n",
    "\n",
    "u2 = A1*u1/A2\n",
    "Re1 = rho*u1*D1/mu\n",
    "Re2 = rho*u2*D2/mu\n",
    "f1 = (-3.6*np.log10(6.9/Re1+(Rr/3.7)**1.11))**-2\n",
    "f2 = (-3.6*np.log10(6.9/Re2+(Rr/3.7)**1.11))**-2\n",
    "\n",
    "C_cont = 0.5\n",
    "C_regular90thread = 1.5\n",
    "C_long90thread = 0.7\n",
    "C_long90flanged = 0.2\n",
    "\n",
    "EF_cont = C_cont*u1**2/2\n",
    "EF_major2 = f2*2*L2*u2**2/D2\n",
    "\n",
    "def func2(P,W2):\n",
    "    return P*(-0.48*(P/1000)**2+8.2*(P/1000)+31)/100-W2\n",
    "\n",
    "for i in range (N):\n",
    "    Length = (L1 - (8*8)) + 8*i # Subtract all 8 existing elbows and start from i = 0\n",
    "    Ef_major1 = f1*2*Length*u1**2/D1\n",
    "    Ef_elbows = u1**2/2*i*C_reg_t + u2**2/2*C_long_t + u2**2/2*C_long_f\n",
    "    Ef2 = EF_cont + Ef_major1 + EF_major2 + Ef_elbows\n",
    "    W2 = -(mass*(0.5*(-u2**2) + g*(h1 - h2) - P_out/rho - Ef2))\n",
    "    P = fsolve(func2,1,args=(W2))\n",
    "    Brake_hp[i] = P/Pow_conversion\n",
    "    \n",
    "print(P)\n",
    "\n",
    "plt.figure(figsize=(10,5))\n",
    "plt.title(\"Break Horsepower Required vs. Numbers of Elbows\")\n",
    "plt.xlabel('Number of elbows')\n",
    "plt.ylabel('Brake horsepower (hp)')\n",
    "plt.plot(n,Brake_hp,'g-',linewidth = 1)"
   ]
  },
  {
   "cell_type": "code",
   "execution_count": null,
   "metadata": {},
   "outputs": [],
   "source": []
  },
  {
   "cell_type": "code",
   "execution_count": null,
   "metadata": {},
   "outputs": [],
   "source": []
  }
 ],
 "metadata": {
  "kernelspec": {
   "display_name": "Python 3",
   "language": "python",
   "name": "python3"
  },
  "language_info": {
   "codemirror_mode": {
    "name": "ipython",
    "version": 3
   },
   "file_extension": ".py",
   "mimetype": "text/x-python",
   "name": "python",
   "nbconvert_exporter": "python",
   "pygments_lexer": "ipython3",
   "version": "3.7.3"
  }
 },
 "nbformat": 4,
 "nbformat_minor": 2
}
