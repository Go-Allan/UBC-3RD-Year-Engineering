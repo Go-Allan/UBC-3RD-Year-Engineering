{
 "cells": [
  {
   "cell_type": "code",
   "execution_count": 8,
   "metadata": {},
   "outputs": [
    {
     "ename": "NameError",
     "evalue": "name 'u' is not defined",
     "output_type": "error",
     "traceback": [
      "\u001b[1;31m---------------------------------------------------------------------------\u001b[0m",
      "\u001b[1;31mNameError\u001b[0m                                 Traceback (most recent call last)",
      "\u001b[1;32m<ipython-input-8-85392beee78d>\u001b[0m in \u001b[0;36m<module>\u001b[1;34m\u001b[0m\n\u001b[0;32m     57\u001b[0m     \u001b[1;32mreturn\u001b[0m \u001b[0mzero\u001b[0m\u001b[1;33m\u001b[0m\u001b[1;33m\u001b[0m\u001b[0m\n\u001b[0;32m     58\u001b[0m \u001b[1;33m\u001b[0m\u001b[0m\n\u001b[1;32m---> 59\u001b[1;33m \u001b[0mans\u001b[0m \u001b[1;33m=\u001b[0m \u001b[0mbalance\u001b[0m\u001b[1;33m(\u001b[0m\u001b[0mmGuess\u001b[0m\u001b[1;33m,\u001b[0m\u001b[0mw\u001b[0m\u001b[1;33m,\u001b[0m\u001b[0mlpipes\u001b[0m\u001b[1;33m,\u001b[0m\u001b[0mdpipes\u001b[0m\u001b[1;33m,\u001b[0m\u001b[0mrpipes\u001b[0m\u001b[1;33m,\u001b[0m\u001b[0mclist\u001b[0m\u001b[1;33m,\u001b[0m\u001b[0mdlist\u001b[0m\u001b[1;33m,\u001b[0m\u001b[0mrho\u001b[0m\u001b[1;33m,\u001b[0m\u001b[0mmu\u001b[0m\u001b[1;33m,\u001b[0m\u001b[0mzIn\u001b[0m\u001b[1;33m,\u001b[0m\u001b[0mzOut\u001b[0m\u001b[1;33m)\u001b[0m\u001b[1;33m\u001b[0m\u001b[1;33m\u001b[0m\u001b[0m\n\u001b[0m\u001b[0;32m     60\u001b[0m \u001b[1;33m\u001b[0m\u001b[0m\n\u001b[0;32m     61\u001b[0m \u001b[0mprint\u001b[0m\u001b[1;33m(\u001b[0m\u001b[1;34m'current val of ene bal is: %.4f W'\u001b[0m \u001b[1;33m%\u001b[0m\u001b[1;33m(\u001b[0m\u001b[0mans\u001b[0m\u001b[1;33m)\u001b[0m\u001b[1;33m)\u001b[0m\u001b[1;33m\u001b[0m\u001b[1;33m\u001b[0m\u001b[0m\n",
      "\u001b[1;32m<ipython-input-8-85392beee78d>\u001b[0m in \u001b[0;36mbalance\u001b[1;34m(mDot, w, llist, dlist, rlist, clist, dClist, rho, mu, zIn, zOut)\u001b[0m\n\u001b[0;32m     54\u001b[0m     \u001b[0mEfMinor\u001b[0m \u001b[1;33m=\u001b[0m \u001b[0mE_f_minor\u001b[0m\u001b[1;33m(\u001b[0m\u001b[0mclist\u001b[0m\u001b[1;33m,\u001b[0m\u001b[0mdClist\u001b[0m\u001b[1;33m,\u001b[0m\u001b[0mmDot\u001b[0m\u001b[1;33m,\u001b[0m\u001b[0mrho\u001b[0m\u001b[1;33m)\u001b[0m\u001b[1;33m\u001b[0m\u001b[1;33m\u001b[0m\u001b[0m\n\u001b[0;32m     55\u001b[0m     \u001b[0mEf\u001b[0m \u001b[1;33m=\u001b[0m \u001b[0mEfMajor\u001b[0m \u001b[1;33m+\u001b[0m \u001b[0mEfMinor\u001b[0m\u001b[1;33m\u001b[0m\u001b[1;33m\u001b[0m\u001b[0m\n\u001b[1;32m---> 56\u001b[1;33m     \u001b[0mzero\u001b[0m \u001b[1;33m=\u001b[0m \u001b[0mw\u001b[0m \u001b[1;33m+\u001b[0m\u001b[0mmDot\u001b[0m\u001b[1;33m*\u001b[0m\u001b[1;33m(\u001b[0m\u001b[1;36m9.81\u001b[0m\u001b[1;33m*\u001b[0m\u001b[1;33m(\u001b[0m\u001b[0mzIn\u001b[0m\u001b[1;33m-\u001b[0m\u001b[0mzOut\u001b[0m\u001b[1;33m)\u001b[0m\u001b[1;33m+\u001b[0m\u001b[1;36m0.5\u001b[0m\u001b[1;33m*\u001b[0m\u001b[1;33m(\u001b[0m\u001b[1;36m0\u001b[0m\u001b[1;33m-\u001b[0m\u001b[0mu\u001b[0m\u001b[1;33m**\u001b[0m\u001b[1;36m2\u001b[0m\u001b[1;33m)\u001b[0m\u001b[1;33m+\u001b[0m\u001b[1;33m(\u001b[0m\u001b[1;36m1\u001b[0m\u001b[1;33m/\u001b[0m\u001b[0mrho\u001b[0m\u001b[1;33m)\u001b[0m\u001b[1;33m*\u001b[0m\u001b[1;33m(\u001b[0m\u001b[1;36m0\u001b[0m\u001b[1;33m-\u001b[0m\u001b[0mP_gage\u001b[0m\u001b[1;33m)\u001b[0m\u001b[1;33m)\u001b[0m \u001b[1;33m-\u001b[0m \u001b[0mEf\u001b[0m\u001b[1;33m\u001b[0m\u001b[1;33m\u001b[0m\u001b[0m\n\u001b[0m\u001b[0;32m     57\u001b[0m     \u001b[1;32mreturn\u001b[0m \u001b[0mzero\u001b[0m\u001b[1;33m\u001b[0m\u001b[1;33m\u001b[0m\u001b[0m\n\u001b[0;32m     58\u001b[0m \u001b[1;33m\u001b[0m\u001b[0m\n",
      "\u001b[1;31mNameError\u001b[0m: name 'u' is not defined"
     ]
    }
   ],
   "source": [
    "import numpy as np\n",
    "import matplotlib.pyplot as plt\n",
    "from scipy import interpolate\n",
    "from math import pi\n",
    "\n",
    "# Variable Definition\n",
    "lpipes = [150,5.25] # length of pipe lengths in m\n",
    "dpipes = [0.1016,0.0254] #diameter in m\n",
    "rpipes = [0.001,0.001]\n",
    "clist = [0.5,8*1.5,2*0.7,0.2]\n",
    "dlist = [0.1016,0.1016,0.0254,0.0254]\n",
    "zIn = 10.25 # height 1 in m\n",
    "zOut = 5.75 # height of heat exchanger\n",
    "pump_eff = .635\n",
    "P_gage = 625000 #pressure out in Pa\n",
    "mu = 1e-3 # viscosity\n",
    "rho = 998.0 # density\n",
    "w = 753000*pump_eff\n",
    "mGuess =  2\n",
    "\n",
    "def get_f(Re,r=0.001):\n",
    "    if Re < 2000:\n",
    "        f = 16/Re\n",
    "    else:\n",
    "        f = (-3.6*np.log10(6.9/Re + (r/3.7)**1.11))**(-2)\n",
    "    return f\n",
    "\n",
    "def get_vel(mDot,rho,D):\n",
    "    u = mDot/rho/np.pi/(D/2.0)**2\n",
    "    return u\n",
    "\n",
    "def E_f_major(llist,dlist,rlist,mDot,rho,mu):\n",
    "    N = len(llist)\n",
    "    Ef = 0\n",
    "    for i in range(N):\n",
    "        D = dlist[i]\n",
    "        u = get_vel(mDot,rho,D)\n",
    "        Re = rho*u*D/mu\n",
    "        f = get_f(Re,rlist[i])\n",
    "        Ef += mDot*f*2*llist[i]*u**2/D  \n",
    "    return Ef\n",
    "\n",
    "def E_f_minor(clist,dlist,mDot,rho):\n",
    "    N = len(clist)\n",
    "    Ef = 0\n",
    "    for i in range(N):\n",
    "        D = dlist[i]\n",
    "        u = get_vel(mDot,rho,D)\n",
    "        Ef += clist[i]*u**2/2*mDot   \n",
    "    return Ef\n",
    "\n",
    "def balance(mDot,w,llist,dlist,rlist,clist,dClist,rho,mu,zIn,zOut):\n",
    "    EfMajor = E_f_major(llist,dlist,rlist,mDot,rho,mu)\n",
    "    EfMinor = E_f_minor(clist,dClist,mDot,rho)\n",
    "    Ef = EfMajor + EfMinor\n",
    "    zero = w +mDot*(9.81*(zIn-zOut)+0.5*(0-u**2)+(1/rho)*(0-P_gage)) - Ef\n",
    "    return zero\n",
    "\n",
    "ans = balance(mGuess,w,lpipes,dpipes,rpipes,clist,dlist,rho,mu,zIn,zOut)\n",
    "\n",
    "print('current val of ene bal is: %.4f W' %(ans))\n",
    "\n",
    "ans = fsolve(balance,mGuess,args=(w,lpipes,dpipes,rpipes,clist,dlist,rho,mu,zIn,zOut))\n",
    "\n",
    "print('the mass flow rate will be: %0.4f kg/s' %(ans))\n",
    "\n"
   ]
  },
  {
   "cell_type": "code",
   "execution_count": null,
   "metadata": {},
   "outputs": [],
   "source": []
  }
 ],
 "metadata": {
  "kernelspec": {
   "display_name": "Python 3",
   "language": "python",
   "name": "python3"
  },
  "language_info": {
   "codemirror_mode": {
    "name": "ipython",
    "version": 3
   },
   "file_extension": ".py",
   "mimetype": "text/x-python",
   "name": "python",
   "nbconvert_exporter": "python",
   "pygments_lexer": "ipython3",
   "version": "3.7.3"
  }
 },
 "nbformat": 4,
 "nbformat_minor": 2
}
