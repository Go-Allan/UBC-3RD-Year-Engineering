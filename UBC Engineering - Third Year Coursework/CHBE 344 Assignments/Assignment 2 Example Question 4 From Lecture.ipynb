{
 "cells": [
  {
   "cell_type": "code",
   "execution_count": 4,
   "metadata": {},
   "outputs": [
    {
     "data": {
      "image/png": "[encoded data removed]",
      "text/plain": [
       "<Figure size 315x270 with 1 Axes>"
      ]
     },
     "metadata": {
      "needs_background": "light"
     },
     "output_type": "display_data"
    },
    {
     "name": "stdout",
     "output_type": "stream",
     "text": [
      "The number weighted average diameter is: 8.3437 +\\- 4.4431\n",
      "The Sauter mean diameter is: 13.8052 +\\- 7.5849\n",
      "The Debroucker diameter is: 17.9726 +\\- 9.9539\n",
      "The skewness and kurtosis are: 158.6020 and 9.7128\n",
      "The Fisher skewness and excess kurtosis are: 1.8082 and 6.7128\n"
     ]
    }
   ],
   "source": [
    "import numpy as np\n",
    "import matplotlib.pyplot as plt\n",
    "\n",
    "# INPUT PARAMETERS\n",
    "N = 10000 # number of measurements\n",
    "mu = 4 # average value for generating a distribution\n",
    "mu2 = 2 # average value for generating a 2nd distribution\n",
    "sigma = .5 # standard deviation for generating a dist.\n",
    "\n",
    "# PLOTTING PARAMETERS\n",
    "bins = 50 # number of bins to use in histogram\n",
    "scale = 1.25 # scaling factor for figure size (preserves aspect ratio)\n",
    "FS1 = 18 # Axes labels font size\n",
    "FS2 = 14 # Legend font size\n",
    "\n",
    "def moments(y,w,y0=0,m=1):\n",
    "    \"\"\"\n",
    "    Calculate the mth moment of a discrete set of measurements of 'y' with\n",
    "    each measurement weighted by the weights 'w', centered about the value\n",
    "    of 'y0'.\n",
    "    For example, the unweighted mean of the distribution is given by the \n",
    "    1st moment (m=1), centered about 0 (y0=0).\n",
    "    \"\"\"\n",
    "    numerator = 0\n",
    "    denominator = 0\n",
    "    N = len(y)\n",
    "    for i in range(N):\n",
    "        numerator += w[i]*(y[i]-y0)**m\n",
    "        denominator += w[i]\n",
    "        \n",
    "    moment = numerator/denominator\n",
    "    return moment\n",
    "\n",
    "# Create a set of fictional particle sizes by drawing from two types of \n",
    "# standard distributions: normal and lognormal\n",
    "d1 = np.random.normal(mu,sigma,N)\n",
    "d2 = np.random.lognormal(mu2,sigma,N)\n",
    "diameters = d2\n",
    "\n",
    "# Create figure size and view histogram\n",
    "plt.figure(figsize=(3.5*scale,3*scale))\n",
    "plt.hist(diameters,bins)\n",
    "plt.xscale('log')\n",
    "plt.xlabel('Diameter',fontsize=FS1)\n",
    "plt.ylabel('Counts',fontsize=FS1)\n",
    "plt.tight_layout()\n",
    "plt.show()\n",
    "\n",
    "# Create arrays for different weightings\n",
    "w = np.ones_like(diameters) # equally weighted\n",
    "w_sauter = np.pi*diameters**2 # surface area weighted\n",
    "w_vol = diameters**3 # volume weighted\n",
    "\n",
    "# Compute averages of the distribution of particles\n",
    "mean = moments(diameters,w) \n",
    "sauter = moments(diameters,w_sauter)\n",
    "debrouker = moments(diameters,w_vol)\n",
    "\n",
    "# Compute the variances and standard deviations\n",
    "variance = moments(diameters,w,y0=mean,m=2)\n",
    "sauterVar = moments(diameters,w_sauter,y0=sauter,m=2)\n",
    "debroukerVar = moments(diameters,w_vol,y0=debrouker,m=2)\n",
    "std = np.sqrt(variance)\n",
    "sauterStd = np.sqrt(sauterVar)\n",
    "debroukerStd = np.sqrt(debroukerVar)\n",
    "\n",
    "print('The number weighted average diameter is: %.4f +\\- %.4f'%(mean,std))\n",
    "print('The Sauter mean diameter is: %.4f +\\- %.4f'%(sauter,sauterStd))\n",
    "print('The Debroucker diameter is: %.4f +\\- %.4f'%(debrouker,debroukerStd))\n",
    "\n",
    "# Compute higher moments for the unweighted case\n",
    "skewness = moments(diameters,w,y0 = mean,m=3)\n",
    "fisherSkewness = skewness/std**3\n",
    "kurtosis = moments(diameters,w,y0 = mean,m=4)/std**4\n",
    "excessKurtosis = kurtosis - 3\n",
    "\n",
    "print('The skewness and kurtosis are: %.4f and %.4f'%(skewness,kurtosis))\n",
    "print('The Fisher skewness and excess kurtosis are: %.4f and %.4f'%(\n",
    "    fisherSkewness,excessKurtosis))"
   ]
  },
  {
   "cell_type": "code",
   "execution_count": null,
   "metadata": {},
   "outputs": [],
   "source": []
  }
 ],
 "metadata": {
  "kernelspec": {
   "display_name": "Python 3",
   "language": "python",
   "name": "python3"
  },
  "language_info": {
   "codemirror_mode": {
    "name": "ipython",
    "version": 3
   },
   "file_extension": ".py",
   "mimetype": "text/x-python",
   "name": "python",
   "nbconvert_exporter": "python",
   "pygments_lexer": "ipython3",
   "version": "3.7.3"
  }
 },
 "nbformat": 4,
 "nbformat_minor": 2
}
