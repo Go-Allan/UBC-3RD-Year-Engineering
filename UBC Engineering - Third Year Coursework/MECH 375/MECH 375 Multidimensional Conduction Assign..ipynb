{
 "cells": [
  {
   "cell_type": "code",
   "execution_count": 7,
   "metadata": {},
   "outputs": [
    {
     "name": "stdout",
     "output_type": "stream",
     "text": [
      "[36.68129505]\n"
     ]
    }
   ],
   "source": [
    "# Assignment 2 Problem 5 a) #INCORRECT -> used wrong C value see updated general code below\n",
    "import math as m\n",
    "from scipy.optimize import fsolve\n",
    "\n",
    "def funky(t):\n",
    "    chi = 4.969/m.sqrt(t)\n",
    "    beta = 0.08547*m.sqrt(t)\n",
    "\n",
    "    O1 = 1.17926*m.exp(-0.01365*t)\n",
    "    O2 = m.erf(chi)+m.exp(2*chi*beta+beta**2)*m.erfc(chi+beta)\n",
    "    \n",
    "    return (O1*O2 - 2/3)\n",
    "\n",
    "time = fsolve(funky,10)\n",
    "print(time)\n"
   ]
  },
  {
   "cell_type": "code",
   "execution_count": 1,
   "metadata": {},
   "outputs": [
    {
     "name": "stdout",
     "output_type": "stream",
     "text": [
      "Bi_cylinder = 0.9971014492753623\n",
      "Fo_cylinder = 0.010781250000000001 * t.\n",
      "     Ie. t > 18.55072463768116\n",
      "lambda1 = 1.2539739130434784\n",
      "C1 = 1.2065620289855072\n",
      "\n",
      "Bi_slab = 24.927536231884055\n",
      "Fo_slab = 1.7250000000000003e-05 * t.\n",
      "\n",
      "time = 34.710163946411164 seconds\n"
     ]
    }
   ],
   "source": [
    "# Assignment 2 Problem 5 General\n",
    "import math as m\n",
    "from scipy.optimize import fsolve\n",
    "from scipy.special import j0\n",
    "import numpy as np\n",
    "\n",
    "# Vary depending on the location of interest -> x=0.02 for a), and x=0.04 for b) \n",
    "r = 0 # [m]\n",
    "x = 0.04 # [m]\n",
    "\n",
    "# Fixed parameters based on question\n",
    "rc = 0.02 # [m]\n",
    "lc = 0.5 # [m] assuming a slab height of 1 m\n",
    "k = 13.8 # [W/m*K]\n",
    "h = 688 # [W/m^2*K]\n",
    "T_inf = 80 # [degrees c]\n",
    "To = 20 # [degrees c]\n",
    "T_melt = 40 # [degrees c]\n",
    "rho = 8000 # [kg/m^3]\n",
    "c = 400 # [J/kg*K]\n",
    "alpha = k/rho/c\n",
    "theta =  (T_melt - T_inf)/(To - T_inf)\n",
    "\n",
    "# Data\n",
    "Biots = [0.5,1] # from data tables in notes\n",
    "lam = [0.9408,1.2558]\n",
    "C = [1.1143,1.2071]\n",
    "\n",
    "#SOLVING\n",
    "# Cylinder (THETA1 (O1)) Checking which solution to use\n",
    "Bi_cylinder =  h*rc/k # lumped capacitance not valid\n",
    "print(\"Bi_cylinder =\", Bi_cylinder)\n",
    "Fo_cylinder = k/rho/c/(rc**2) # assume we use single term solution ie infinite cylinder where Fo > 0.2\n",
    "print(\"Fo_cylinder =\",Fo_cylinder,'* t.\\n     Ie. t >', 0.2/(k/rho/c/(rc**2)))\n",
    "\n",
    "# cylinder Parameters\n",
    "lambda1 = np.interp(Bi_cylinder,Biots,lam)\n",
    "C1 = np.interp(Bi_cylinder,Biots,C)\n",
    "print('lambda1 =',lambda1)\n",
    "print('C1 =', C1)\n",
    "\n",
    "\n",
    "# Slab (THETA2 (O2)) Checking which solution to use\n",
    "Bi_slab =  h*lc/k # lumped capacitance not valid\n",
    "print(\"\\nBi_slab =\", Bi_slab) \n",
    "Fo_slab = k/rho/c/(lc**2) # use semi-infinite solid solution\n",
    "print(\"Fo_slab =\",Fo_slab,'* t.')\n",
    "\n",
    "#SOLVING\n",
    "def funky(t):\n",
    "    # Slab parameters\n",
    "    chi = x/2/m.sqrt(alpha*t)\n",
    "    beta = h*m.sqrt(alpha*t)/k\n",
    "\n",
    "    O1 = C1*m.exp(-(lambda1**2)*Fo_cylinder*t)*j0(lambda1*r/rc)\n",
    "    O2 = m.erf(chi)+m.exp(2*chi*beta+beta**2)*m.erfc(chi+beta)\n",
    "    \n",
    "    return (O1*O2 - theta)\n",
    "\n",
    "time = fsolve(funky,10)\n",
    "\n",
    "print(\"\\ntime =\",time[0],\"seconds\")\n"
   ]
  },
  {
   "cell_type": "code",
   "execution_count": null,
   "metadata": {},
   "outputs": [],
   "source": []
  }
 ],
 "metadata": {
  "kernelspec": {
   "display_name": "Python 3",
   "language": "python",
   "name": "python3"
  },
  "language_info": {
   "codemirror_mode": {
    "name": "ipython",
    "version": 3
   },
   "file_extension": ".py",
   "mimetype": "text/x-python",
   "name": "python",
   "nbconvert_exporter": "python",
   "pygments_lexer": "ipython3",
   "version": "3.7.3"
  }
 },
 "nbformat": 4,
 "nbformat_minor": 2
}
