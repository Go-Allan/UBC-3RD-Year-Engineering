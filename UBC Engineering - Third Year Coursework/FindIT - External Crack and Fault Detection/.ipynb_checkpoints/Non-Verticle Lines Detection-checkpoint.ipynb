{
 "cells": [
  {
   "cell_type": "code",
   "execution_count": 8,
   "metadata": {},
   "outputs": [
    {
     "data": {
      "text/plain": [
       "-1"
      ]
     },
     "execution_count": 8,
     "metadata": {},
     "output_type": "execute_result"
    }
   ],
   "source": [
    "# ORIGINAL \n",
    "import cv2 as cv\n",
    "import numpy as np\n",
    "import math\n",
    "\n",
    "cropping = True # true = crop photo by the amounts below, false = dont crop photo\n",
    "crop_val_top = 21 # distance from the top to crop\n",
    "crop_val_bot = 49 # distance from the bottom to crop\n",
    "\n",
    "uncropped_image = cv.imread('C:/Users/allan/Desktop/Jupyter Projects/FindIT - External Crack and Fault Detection/Test Photos/Rolling Contact Fatigue Sample.jpg', cv.IMREAD_GRAYSCALE)\n",
    "\n",
    "# Crop image or not\n",
    "if cropping is True:\n",
    "    image = uncropped_image[crop_val_top: -crop_val_bot,0:]\n",
    "else:\n",
    "    image = uncropped_image\n",
    "\n",
    "#output variables\n",
    "edges = cv.Canny(image, 100, 300, edges = None, apertureSize =  3)\n",
    "edgeimage = cv.cvtColor(edges, cv.COLOR_GRAY2BGR)\n",
    "cdstP = np.copy(edgeimage)\n",
    "\n",
    "# standard hough transform    \n",
    "lines = cv.HoughLines(edges, 1, np.pi/180, 150, None, 0, 0)\n",
    "if lines is not None: \n",
    "    for i in range(0, len(lines)):\n",
    "        rho = lines[i][0][0]\n",
    "        theta = lines[i][0][1]\n",
    "        a = math.cos(theta)\n",
    "        b = math.sin(theta)\n",
    "        x0 = a * rho\n",
    "        y0 = b * rho\n",
    "        pt1 = (int(x0 + 1000 * (-b)), int(y0 + 1000 * (a)))\n",
    "        pt2 = (int(x0 - 1000 * (-b)), int(y0 - 1000 * (a)))\n",
    "        cv.line(edgeimage, pt1, pt2, (0, 255, 0), thickness =1, lineType = cv.LINE_AA)\n",
    "\n",
    "# probabilistic hough transfrom model        \n",
    "linesP = cv.HoughLinesP(edges, 1, np.pi/180, 100, 4, 2)\n",
    "if linesP is not None: \n",
    "    for i in range(0, len(linesP)):\n",
    "        l = linesP[i][0]\n",
    "        cv.line(cdstP, (l[0], l[1]), (l[2], l[3]), (0, 0, 255), thickness = 1, lineType = cv.LINE_AA) # plot in red with line type cv.LINE_AA\n",
    "\n",
    "# displays source, standard hough and probabilistic line transforms\n",
    "cv.imshow(\"Source\", image)\n",
    "cv.imshow(\"Detected Lines (in green) - Standard Hough Line Transform\", edgeimage)\n",
    "cv.imshow(\"Detected Lines (in red) - Probabilistic Line Transform\", cdstP)\n",
    "cv.waitKey()"
   ]
  },
  {
   "cell_type": "code",
   "execution_count": 1,
   "metadata": {},
   "outputs": [
    {
     "data": {
      "text/plain": [
       "-1"
      ]
     },
     "execution_count": 1,
     "metadata": {},
     "output_type": "execute_result"
    }
   ],
   "source": [
    "# Mod 1 - Combo Standard and Probabilistic \n",
    "# https://docs.opencv.org/3.4/d3/de6/tutorial_js_houghlines.html\n",
    "        \n",
    "import cv2 as cv\n",
    "import numpy as np\n",
    "import math\n",
    "\n",
    "min_pix = 10 # minimum amt of pixels to be considered a line\n",
    "min_L = 0 # minimum line length to be considered a line\n",
    "max_gap = 2 # maximum gap between pixels\n",
    "angle_tolerence = 5/180 # a filter for how close angles can be to eachother in radians\n",
    "rho_tolerence = 25\n",
    "\n",
    "cropping = True # true = crop photo by the amounts below, false = dont crop photo\n",
    "crop_val_top = 65 # distance from the top to crop\n",
    "crop_val_bot = 1 # distance from the bottom to crop\n",
    "\n",
    "uncropped_image = cv.imread('C:/Users/allan/Desktop/Jupyter Projects/FindIT - External Crack and Fault Detection/Test Photos/Rolling Contact Fatigue Sample.jpg', cv.IMREAD_GRAYSCALE)\n",
    "\n",
    "# Crop image or not\n",
    "if cropping is True:\n",
    "    image = uncropped_image[crop_val_top: -crop_val_bot,0:]\n",
    "else:\n",
    "    image = uncropped_image\n",
    "\n",
    "#output variables\n",
    "edges = cv.Canny(image, 100, 300, edges = None,apertureSize =  3)\n",
    "edgeimage = cv.cvtColor(edges, cv.COLOR_GRAY2BGR)\n",
    "cdstP = np.copy(edgeimage)\n",
    "overlap = np.copy(edgeimage)\n",
    "\n",
    "# standard hough transform    \n",
    "# HoughLines(picture file, pixel accuracy, angle accuracy in rad, minimum amt of pixels to be considered a line)\n",
    "lines = cv.HoughLines(edges, 1, np.pi/180, min_pix, srn = 0, stn = 0,min_theta = -80/180, max_theta = -30/180) \n",
    "if lines is not None: \n",
    "    for i in range(0, len(lines)):\n",
    "        rho1 = lines[i][0][0]\n",
    "        try:\n",
    "            rho2 = lines[i+1][0][0]\n",
    "        except:\n",
    "            rho2 = lines[i-1][0][0]\n",
    "            \n",
    "        theta1 = lines[i][0][1]\n",
    "        try:\n",
    "            theta2 = lines[i+1][0][1] \n",
    "        except:\n",
    "            theta2 = lines[i-1][0][1]\n",
    "        \n",
    "        if (theta1 < (theta2 + angle_tolerence) and theta1 > (theta2 - angle_tolerence) and\n",
    "           rho1 < (rho2 + rho_tolerence) and rho1 > (rho2 - rho_tolerence)):\n",
    "            a = math.cos(theta1)\n",
    "            b = math.sin(theta1)\n",
    "            x0 = a * rho1\n",
    "            y0 = b * rho1\n",
    "            pt1 = (int(x0 + 1000 * (-b)), int(y0 + 1000 * (a)))\n",
    "            pt2 = (int(x0 - 1000 * (-b)), int(y0 - 1000 * (a)))\n",
    "            cv.line(edgeimage, pt1, pt2, (0, 255, 0), thickness =1, lineType = cv.LINE_AA)\n",
    "\n",
    "# probabilistic hough transfrom model    \n",
    "# HoughLines(picture file, pixel accuracy, angle accuracy in rad, minimum amt of pixels to be considered a line,\n",
    "#            min line length )\n",
    "linesP = cv.HoughLinesP(edges, 1, np.pi/360, min_pix, min_L, max_gap)\n",
    "if linesP is not None: \n",
    "    for i in range(0, len(linesP)):\n",
    "        l = linesP[i][0]\n",
    "        cv.line(cdstP, (l[0], l[1]), (l[2], l[3]), (0, 0, 255), thickness = 1, lineType = cv.LINE_AA) # plot in red with line type cv.LINE_AA\n",
    "\n",
    "'''if lines and linesP is not None:\n",
    "    for i in range(0, min(len(lines),len(linesP))):\n",
    "        if lines == linesP:\n",
    "            cv.line(overlap)'''\n",
    "\n",
    "# displays source, standard hough and probabilistic line transforms\n",
    "#cv.imshow(\"Source\", image)\n",
    "cv.imshow(\"Detected Lines (in green) - Standard Hough Line Transform\", edgeimage)\n",
    "#cv.imshow(\"Detected Lines (in red) - Probabilistic Line Transform\", cdstP)\n",
    "cv.waitKey()"
   ]
  },
  {
   "cell_type": "code",
   "execution_count": null,
   "metadata": {},
   "outputs": [],
   "source": []
  },
  {
   "cell_type": "code",
   "execution_count": null,
   "metadata": {},
   "outputs": [],
   "source": []
  }
 ],
 "metadata": {
  "kernelspec": {
   "display_name": "Python 3",
   "language": "python",
   "name": "python3"
  },
  "language_info": {
   "codemirror_mode": {
    "name": "ipython",
    "version": 3
   },
   "file_extension": ".py",
   "mimetype": "text/x-python",
   "name": "python",
   "nbconvert_exporter": "python",
   "pygments_lexer": "ipython3",
   "version": "3.7.3"
  }
 },
 "nbformat": 4,
 "nbformat_minor": 2
}
