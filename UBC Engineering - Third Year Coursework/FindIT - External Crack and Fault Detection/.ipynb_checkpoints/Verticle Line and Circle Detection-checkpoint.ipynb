{
 "cells": [
  {
   "cell_type": "code",
   "execution_count": 23,
   "metadata": {},
   "outputs": [
    {
     "name": "stdout",
     "output_type": "stream",
     "text": [
      "no vertical cracks\n"
     ]
    },
    {
     "data": {
      "text/plain": [
       "-1"
      ]
     },
     "execution_count": 23,
     "metadata": {},
     "output_type": "execute_result"
    }
   ],
   "source": [
    "import cv2 as cv\n",
    "import numpy as np\n",
    "import math\n",
    "\n",
    "\"\"\"Parameters\"\"\"\n",
    "pixels_to_mm = 0.1\n",
    "track_y = 1 #value to crop top and bottom of the image by\n",
    "canny_lower_threshold = 150\n",
    "canny_upper_threshold = 300\n",
    "HL_rho = 1 #1\n",
    "HL_theta = 180 #180\n",
    "HL_threshold = 150 #150\n",
    "HLP_rho = 1 #1\n",
    "HLP_theta = 180 #180\n",
    "HLP_threshold = 50 #150\n",
    "HLP_min_line_length = 10\n",
    "\n",
    "\"\"\"Reference Image\"\"\"\n",
    "image = cv.imread('C:/Users/allan/Desktop/Jupyter Projects/FindIT - External Crack and Fault Detection/Test Photos/Indents3.jpg', cv.IMREAD_GRAYSCALE)\n",
    "image_track = image[track_y: -track_y-30]\n",
    "\n",
    "def vertical_crack(edges, threshold=1):\n",
    "    linesP = cv.HoughLinesP(edges, HLP_rho, np.pi / HLP_theta, HLP_threshold, None, HLP_min_line_length, 10)\n",
    "    xvalues = []\n",
    "    \n",
    "    if linesP is not None:\n",
    "        for i in range(0, len(linesP)):\n",
    "            l = linesP[i][0]\n",
    "            if l[0] <= l[2] + threshold & l[0] >= l[2] - threshold:\n",
    "                xvalues.append(l[0])\n",
    "                xvalues.append(l[2])\n",
    "            cv.line(cdstP, (l[0], l[1]), (l[2], l[3]), (0, 0, 255), 3, cv.LINE_AA)\n",
    "    try:\n",
    "        width_of_crack(xvalues)\n",
    "    except:\n",
    "        print(\"no vertical cracks\")\n",
    "        image_track_blur = cv.medianBlur(image_track, 7)\n",
    "        detect_circle(image_track_blur)\n",
    "\n",
    "def detect_circle(image_track_blur):\n",
    "    ##circles\n",
    "    # HoughCircles(image, method, dp (acc has same resolution of same size), minDist, param1, param2)\n",
    "    circles = cv.HoughCircles(edges, cv.HOUGH_GRADIENT, 1, 80, param1=50, param2=30, minRadius=0,\n",
    "                              maxRadius=0)\n",
    "\n",
    "    try:\n",
    "        circles = np.uint16(np.around(circles))\n",
    "        for i in circles[0, :]:\n",
    "            # draw the outer circle\n",
    "            cv.circle(image_track, (i[0], i[1]), i[2], (0, 0, 255), 2)\n",
    "            # draw the center of the circle\n",
    "            cv.circle(image_track, (i[0], i[1]), 2, (0, 0, 255), 3)\n",
    "    except:\n",
    "        print(\"no circles found\")\n",
    "        \n",
    "def width_of_crack(values):\n",
    "    width = max(values) - min(values)\n",
    "    print(width * pixels_to_mm)\n",
    "\n",
    "#output variables\n",
    "edges = cv.Canny(image_track, canny_lower_threshold, canny_upper_threshold, None, 3)\n",
    "edgeimage = cv.cvtColor(edges, cv.COLOR_GRAY2BGR) #to show the canny image in imshow\n",
    "cdstP = np.copy(edgeimage)\n",
    "\n",
    "#cv.imshow(\"Canny Transform\", edgeimage)\n",
    "\n",
    "#standard hough transform\n",
    "#cv2.HoughLines(image, rho - distance resolution of accumulator, theta - angle resolution of accumulator, threshold[, lines[, srn[, stn]]]) → lines\n",
    "# lines = cv.HoughLines(edges, HL_rho, np.pi/HL_theta, HL_threshold, None, 0, 0) #lines stores the coordinates of start/end line\n",
    "#\n",
    "# if lines is not None:\n",
    "#     for i in range(0, len(lines)):\n",
    "#         rho = lines[i][0][0]\n",
    "#         theta = lines[i][0][1]\n",
    "#         a = math.cos(theta)\n",
    "#         b = math.sin(theta)\n",
    "#         x0 = a * rho\n",
    "#         y0 = b * rho\n",
    "#         pt1 = (int(x0 + 1000 * (-b)), int(y0 + 1000 * (a)))\n",
    "#         pt2 = (int(x0 - 1000 * (-b)), int(y0 - 1000 * (a)))\n",
    "#         cv.line(edgeimage, pt1, pt2, (0, 0, 255), 3, cv.LINE_AA)\n",
    "vertical_crack(edges)\n",
    "\n",
    "#cv.imshow(\"mm\", image)\n",
    "cv.imshow('detected circles',image_track)\n",
    "#cv.imshow(\"Detected Lines (in red) - Standard Hough Line Transform\", edgeimage)\n",
    "cv.imshow(\"Detected Lines (in red) - Probabilistic Line Transform\", cdstP)\n",
    "cv.waitKey()"
   ]
  },
  {
   "cell_type": "code",
   "execution_count": null,
   "metadata": {},
   "outputs": [],
   "source": []
  },
  {
   "cell_type": "code",
   "execution_count": null,
   "metadata": {},
   "outputs": [],
   "source": []
  }
 ],
 "metadata": {
  "kernelspec": {
   "display_name": "Python 3",
   "language": "python",
   "name": "python3"
  },
  "language_info": {
   "codemirror_mode": {
    "name": "ipython",
    "version": 3
   },
   "file_extension": ".py",
   "mimetype": "text/x-python",
   "name": "python",
   "nbconvert_exporter": "python",
   "pygments_lexer": "ipython3",
   "version": "3.7.3"
  }
 },
 "nbformat": 4,
 "nbformat_minor": 2
}
