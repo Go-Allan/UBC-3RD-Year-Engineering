{
 "cells": [
  {
   "cell_type": "code",
   "execution_count": 34,
   "metadata": {},
   "outputs": [
    {
     "data": {
      "image/png": "[encoded data removed]",
      "text/plain": [
       "<Figure size 432x288 with 1 Axes>"
      ]
     },
     "metadata": {
      "needs_background": "light"
     },
     "output_type": "display_data"
    },
    {
     "name": "stdout",
     "output_type": "stream",
     "text": [
      "Avg = 79.51497005988024\n",
      "96: 2\n",
      "95: 1\n",
      "94: 2\n",
      "93: 2\n",
      "92: 4\n",
      "91: 5\n",
      "90: 7\n",
      "CLass size: 167\n"
     ]
    },
    {
     "data": {
      "image/png": "[encoded data removed]",
      "text/plain": [
       "<Figure size 432x288 with 1 Axes>"
      ]
     },
     "metadata": {
      "needs_background": "light"
     },
     "output_type": "display_data"
    }
   ],
   "source": [
    "from matplotlib import pyplot as plt\n",
    "import numpy as np\n",
    "\n",
    "grades = [89, 77,78,66,76,81,72,87,76,93,88,78,81,73,93,92,57,64,77,86,96,85,79,\n",
    "          91,81,64,78,92,90,82,72,81,86,87,82,80,69,68,89,74,80,85,90,82,89,87,78,75,77,84,75,73,79,75\n",
    "          ,70,85,81,81,90,84,82,61,80,89,78,76,78,76,73,71,84,85,29,68,85,94,61,73,84,\n",
    "          77,95,82,83,78,69,94,92,83,90,73,84,84,86,81,81,72,82,77,67,77,82,66,81,80,84,90,91,\n",
    "          91,87,76,82,82,88,92,89,78,75,71,87,82,87,68,69,83,77,85,81,78,71,80,91,78,72,\n",
    "          61,36,59,81,78,80,83,74,75,77,70,88,79,96,85,69,79,83,78,70,77,91,90,71,90,74,85,77,\n",
    "          82,81,81,87,67,87]\n",
    "\n",
    "plt.hist(grades, bins = 78, color ='c', edgecolor = 'b')\n",
    "avg = sum(grades)/len(grades)\n",
    "plt.axvline(avg, color = 'k')\n",
    "plt.axvline(92, ls = '--',color = 'r')\n",
    "plt.show()\n",
    "\n",
    "print(\"Avg =\",np.average(grades))\n",
    "print(\"96:\",grades.count(96))\n",
    "print(\"95:\",grades.count(95))\n",
    "print(\"94:\",grades.count(94))\n",
    "print(\"93:\",grades.count(93))\n",
    "print(\"92:\",grades.count(92))\n",
    "print(\"91:\",grades.count(91))\n",
    "print(\"90:\",grades.count(90))\n",
    "print(\"CLass size:\",len(grades))\n",
    "\n",
    "plt.boxplot(grades)\n",
    "plt.show()"
   ]
  },
  {
   "cell_type": "code",
   "execution_count": null,
   "metadata": {},
   "outputs": [],
   "source": []
  }
 ],
 "metadata": {
  "kernelspec": {
   "display_name": "Python 3",
   "language": "python",
   "name": "python3"
  },
  "language_info": {
   "codemirror_mode": {
    "name": "ipython",
    "version": 3
   },
   "file_extension": ".py",
   "mimetype": "text/x-python",
   "name": "python",
   "nbconvert_exporter": "python",
   "pygments_lexer": "ipython3",
   "version": "3.7.6"
  }
 },
 "nbformat": 4,
 "nbformat_minor": 2
}
